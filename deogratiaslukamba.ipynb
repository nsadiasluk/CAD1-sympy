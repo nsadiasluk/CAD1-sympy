{
 "cells": [
  {
   "cell_type": "code",
   "execution_count": 104,
   "metadata": {},
   "outputs": [],
   "source": [
    "from sympy import*\n",
    "init_printing(use_unicode=True)"
   ]
  },
  {
   "cell_type": "code",
   "execution_count": 11,
   "metadata": {},
   "outputs": [
    {
     "data": {
      "image/png": "[encoded data removed]",
      "text/latex": [
       "$$\\left [ -3 - \\sqrt{8 + 2 i}, \\quad -3 + \\sqrt{8 + 2 i}\\right ]$$"
      ],
      "text/plain": [
       "⎡       _________         _________⎤\n",
       "⎣-3 - ╲╱ 8 + 2⋅ⅈ , -3 + ╲╱ 8 + 2⋅ⅈ ⎦"
      ]
     },
     "execution_count": 11,
     "metadata": {},
     "output_type": "execute_result"
    }
   ],
   "source": [
    "#Exercise1 Basics\n",
    "#1.1 find the solutions of the following equations using sympy:\n",
    "\n",
    "z,x= symbols('z,x')\n",
    "solve(z**2+6*z+(1-2*I),z)\n"
   ]
  },
  {
   "cell_type": "code",
   "execution_count": 12,
   "metadata": {},
   "outputs": [
    {
     "data": {
      "image/png": "[encoded data removed]",
      "text/latex": [
       "$$\\left [ -3 - \\frac{i}{2}, \\quad -3 + \\frac{i}{2}\\right ]$$"
      ],
      "text/plain": [
       "⎡     ⅈ       ⅈ⎤\n",
       "⎢-3 - ─, -3 + ─⎥\n",
       "⎣     2       2⎦"
      ]
     },
     "execution_count": 12,
     "metadata": {},
     "output_type": "execute_result"
    }
   ],
   "source": [
    "solve(4*z**2+24*z+37,z)"
   ]
  },
  {
   "cell_type": "code",
   "execution_count": 13,
   "metadata": {},
   "outputs": [
    {
     "data": {
      "image/png": "[encoded data removed]",
      "text/latex": [
       "$$\\left [ \\frac{\\pi}{15}, \\quad \\frac{\\pi}{3}\\right ]$$"
      ],
      "text/plain": [
       "⎡π   π⎤\n",
       "⎢──, ─⎥\n",
       "⎣15  3⎦"
      ]
     },
     "execution_count": 13,
     "metadata": {},
     "output_type": "execute_result"
    }
   ],
   "source": [
    "# solve for x,\n",
    "solve(2*sin(5*x/2)-1,x)"
   ]
  },
  {
   "cell_type": "code",
   "execution_count": 14,
   "metadata": {},
   "outputs": [
    {
     "data": {
      "image/png": "[encoded data removed]",
      "text/latex": [
       "$$\\left [ \\right ]$$"
      ],
      "text/plain": [
       "[]"
      ]
     },
     "execution_count": 14,
     "metadata": {},
     "output_type": "execute_result"
    }
   ],
   "source": [
    "#solve for sin(2x)\n",
    "solve(2*sin(5*x/2)-1,sin(2*x))"
   ]
  },
  {
   "cell_type": "code",
   "execution_count": 24,
   "metadata": {},
   "outputs": [
    {
     "data": {
      "image/png": "[encoded data removed]",
      "text/latex": [
       "$$\\left [ - \\frac{1}{2}, \\quad \\frac{1}{2}\\right ]$$"
      ],
      "text/plain": [
       "[-1/2, 1/2]"
      ]
     },
     "execution_count": 24,
     "metadata": {},
     "output_type": "execute_result"
    }
   ],
   "source": [
    "#solve for cos(x)\n",
    "solve(4*cot(x)*(cos(x))**2-cot(x), cos(x))"
   ]
  },
  {
   "cell_type": "code",
   "execution_count": 19,
   "metadata": {},
   "outputs": [
    {
     "data": {
      "image/png": "[encoded data removed]",
      "text/latex": [
       "$$\\left [ - \\frac{2 \\pi}{3}, \\quad - \\frac{\\pi}{3}, \\quad \\frac{\\pi}{3}, \\quad \\frac{2 \\pi}{3}\\right ]$$"
      ],
      "text/plain": [
       "⎡-2⋅π   -π   π  2⋅π⎤\n",
       "⎢─────, ───, ─, ───⎥\n",
       "⎣  3     3   3   3 ⎦"
      ]
     },
     "execution_count": 19,
     "metadata": {},
     "output_type": "execute_result"
    }
   ],
   "source": [
    "#solve for x\n",
    "solve(4*cot(x)*(cos(x))**2-cot(x),x)"
   ]
  },
  {
   "cell_type": "code",
   "execution_count": 20,
   "metadata": {},
   "outputs": [],
   "source": [
    "# 1.2 Display the first and the second derivative of the following functions\n"
   ]
  },
  {
   "cell_type": "code",
   "execution_count": 26,
   "metadata": {},
   "outputs": [
    {
     "name": "stdout",
     "output_type": "stream",
     "text": [
      "4*cos(2*x)\n",
      "-8*sin(2*x)\n"
     ]
    }
   ],
   "source": [
    "y=2*sin(2*x)\n",
    "y1=diff(y,x)\n",
    "y2=diff(y1,x)\n",
    "\n",
    "print(y1)\n",
    "print(y2)"
   ]
  },
  {
   "cell_type": "code",
   "execution_count": 38,
   "metadata": {},
   "outputs": [
    {
     "name": "stdout",
     "output_type": "stream",
     "text": [
      "-sin(x)/(cos(x) + 1) + sin(x)*cos(x)/(cos(x) + 1)**2\n",
      "-cos(x)/(cos(x) + 1) - 2*sin(x)**2/(cos(x) + 1)**2 + cos(x)**2/(cos(x) + 1)**2 + 2*sin(x)**2*cos(x)/(cos(x) + 1)**3\n"
     ]
    }
   ],
   "source": [
    "u=(cos(x)/(cos(x)+1))\n",
    "u1=diff(u,x)\n",
    "u2=diff(u1,x)\n",
    "print(u1)\n",
    "print(u2)"
   ]
  },
  {
   "cell_type": "code",
   "execution_count": 30,
   "metadata": {},
   "outputs": [
    {
     "name": "stdout",
     "output_type": "stream",
     "text": [
      "2/(x - 1)**2 - 2*(x**2 + 1)/(x*(x - 1)**3) - (x**2 + 1)/(x**2*(x - 1)**2)\n",
      "-8/(x - 1)**3 - 2/(x*(x - 1)**2) + 6*(x**2 + 1)/(x*(x - 1)**4) + 4*(x**2 + 1)/(x**2*(x - 1)**3) + 2*(x**2 + 1)/(x**3*(x - 1)**2)\n"
     ]
    }
   ],
   "source": [
    "v=(x**2+1)/(x*(x-1)**2)\n",
    "v1=diff(v,x)\n",
    "v2=diff(v1,x)\n",
    "print(v1)\n",
    "print(v2)"
   ]
  },
  {
   "cell_type": "code",
   "execution_count": 31,
   "metadata": {},
   "outputs": [],
   "source": [
    "#1.3 Integrate the first derivative of the above equations"
   ]
  },
  {
   "cell_type": "code",
   "execution_count": 32,
   "metadata": {},
   "outputs": [
    {
     "data": {
      "image/png": "[encoded data removed]",
      "text/latex": [
       "$$2 \\sin{\\left (2 x \\right )}$$"
      ],
      "text/plain": [
       "2⋅sin(2⋅x)"
      ]
     },
     "execution_count": 32,
     "metadata": {},
     "output_type": "execute_result"
    }
   ],
   "source": [
    "integrate(diff(y,x))"
   ]
  },
  {
   "cell_type": "code",
   "execution_count": 39,
   "metadata": {},
   "outputs": [
    {
     "data": {
      "image/png": "[encoded data removed]",
      "text/latex": [
       "$$- \\frac{1}{\\cos{\\left (x \\right )} + 1}$$"
      ],
      "text/plain": [
       "   -1     \n",
       "──────────\n",
       "cos(x) + 1"
      ]
     },
     "execution_count": 39,
     "metadata": {},
     "output_type": "execute_result"
    }
   ],
   "source": [
    "integrate(diff(u,x)).simplify()"
   ]
  },
  {
   "cell_type": "code",
   "execution_count": 41,
   "metadata": {},
   "outputs": [
    {
     "data": {
      "image/png": "[encoded data removed]",
      "text/latex": [
       "$$\\frac{x^{2} + 1}{x \\left(x^{2} - 2 x + 1\\right)}$$"
      ],
      "text/plain": [
       "      2         \n",
       "     x  + 1     \n",
       "────────────────\n",
       "  ⎛ 2          ⎞\n",
       "x⋅⎝x  - 2⋅x + 1⎠"
      ]
     },
     "execution_count": 41,
     "metadata": {},
     "output_type": "execute_result"
    }
   ],
   "source": [
    "integrate(diff(v,x)).simplify()"
   ]
  },
  {
   "cell_type": "code",
   "execution_count": 42,
   "metadata": {},
   "outputs": [],
   "source": [
    "#1.4 using Sympy plot sin(nx) for n[1,3] in the same plot with different colors for each curve"
   ]
  },
  {
   "cell_type": "code",
   "execution_count": 74,
   "metadata": {},
   "outputs": [
    {
     "data": {
      "image/png": "[encoded data removed]",
      "text/plain": [
       "<matplotlib.figure.Figure at 0x7fc07b3a0ac8>"
      ]
     },
     "metadata": {},
     "output_type": "display_data"
    },
    {
     "data": {
      "image/png": "[encoded data removed]",
      "text/plain": [
       "<matplotlib.figure.Figure at 0x7fc07b4c8d68>"
      ]
     },
     "metadata": {},
     "output_type": "display_data"
    }
   ],
   "source": [
    "p=plot(sin(x),sin(2*x),sin(3*x),(x,0,5))\n",
    "p[0].line_color='r'\n",
    "p[1].line_color='b'\n",
    "p[2].line_color='g'\n",
    "p.show()"
   ]
  },
  {
   "cell_type": "code",
   "execution_count": 46,
   "metadata": {},
   "outputs": [],
   "source": [
    "#Exercise 2\n"
   ]
  },
  {
   "cell_type": "code",
   "execution_count": 63,
   "metadata": {},
   "outputs": [
    {
     "data": {
      "image/png": "[encoded data removed]",
      "text/latex": [
       "$$y + \\frac{Q^{2}}{2 A^{2} g}$$"
      ],
      "text/plain": [
       "       2  \n",
       "      Q   \n",
       "y + ──────\n",
       "       2  \n",
       "    2⋅A ⋅g"
      ]
     },
     "execution_count": 63,
     "metadata": {},
     "output_type": "execute_result"
    }
   ],
   "source": [
    "#2.1 define the equation\n",
    "\n",
    "Q,A,g,y=symbols('Q,A,g,y')\n",
    "E=((Q/A)**2/(2*g))+y\n",
    "E\n"
   ]
  },
  {
   "cell_type": "code",
   "execution_count": 64,
   "metadata": {},
   "outputs": [
    {
     "data": {
      "image/png": "[encoded data removed]",
      "text/latex": [
       "$$b y$$"
      ],
      "text/plain": [
       "b⋅y"
      ]
     },
     "execution_count": 64,
     "metadata": {},
     "output_type": "execute_result"
    }
   ],
   "source": [
    "#2.2. Energy calculation\n",
    "b=symbols('b')\n",
    "A=b*y\n",
    "A"
   ]
  },
  {
   "cell_type": "code",
   "execution_count": 61,
   "metadata": {},
   "outputs": [
    {
     "data": {
      "image/png": "[encoded data removed]",
      "text/latex": [
       "$$24.0$$"
      ],
      "text/plain": [
       "24.0000000000000"
      ]
     },
     "execution_count": 61,
     "metadata": {},
     "output_type": "execute_result"
    }
   ],
   "source": [
    "A.subs({b:10,y:2.4})\n"
   ]
  },
  {
   "cell_type": "code",
   "execution_count": 67,
   "metadata": {},
   "outputs": [
    {
     "data": {
      "image/png": "[encoded data removed]",
      "text/latex": [
       "$$2.4796381243629$$"
      ],
      "text/plain": [
       "2.47963812436290"
      ]
     },
     "execution_count": 67,
     "metadata": {},
     "output_type": "execute_result"
    }
   ],
   "source": [
    "#2.2.The energy value\n",
    "\n",
    "E=((Q/(b*y))**2/(2*g))+y\n",
    "E.subs({Q:30,A:24,g:9.81,y:2.4})"
   ]
  },
  {
   "cell_type": "code",
   "execution_count": 75,
   "metadata": {},
   "outputs": [
    {
     "data": {
      "image/png": "[encoded data removed]",
      "text/latex": [
       "$$\\left [ - \\frac{E^{2}}{3 \\sqrt[3]{- E^{3} + \\frac{27 Q^{2} g}{8 b^{2}} + \\frac{1}{2} \\sqrt{- 4 E^{6} + \\left(- 2 E^{3} + \\frac{27 Q^{2} g}{4 b^{2}}\\right)^{2}}}} + \\frac{E}{3} - \\frac{1}{3} \\sqrt[3]{- E^{3} + \\frac{27 Q^{2} g}{8 b^{2}} + \\frac{1}{2} \\sqrt{- 4 E^{6} + \\left(- 2 E^{3} + \\frac{27 Q^{2} g}{4 b^{2}}\\right)^{2}}}, \\quad - \\frac{E^{2}}{3 \\left(- \\frac{1}{2} - \\frac{\\sqrt{3} i}{2}\\right) \\sqrt[3]{- E^{3} + \\frac{27 Q^{2} g}{8 b^{2}} + \\frac{1}{2} \\sqrt{- 4 E^{6} + \\left(- 2 E^{3} + \\frac{27 Q^{2} g}{4 b^{2}}\\right)^{2}}}} + \\frac{E}{3} - \\frac{1}{3} \\left(- \\frac{1}{2} - \\frac{\\sqrt{3} i}{2}\\right) \\sqrt[3]{- E^{3} + \\frac{27 Q^{2} g}{8 b^{2}} + \\frac{1}{2} \\sqrt{- 4 E^{6} + \\left(- 2 E^{3} + \\frac{27 Q^{2} g}{4 b^{2}}\\right)^{2}}}, \\quad - \\frac{E^{2}}{3 \\left(- \\frac{1}{2} + \\frac{\\sqrt{3} i}{2}\\right) \\sqrt[3]{- E^{3} + \\frac{27 Q^{2} g}{8 b^{2}} + \\frac{1}{2} \\sqrt{- 4 E^{6} + \\left(- 2 E^{3} + \\frac{27 Q^{2} g}{4 b^{2}}\\right)^{2}}}} + \\frac{E}{3} - \\frac{1}{3} \\left(- \\frac{1}{2} + \\frac{\\sqrt{3} i}{2}\\right) \\sqrt[3]{- E^{3} + \\frac{27 Q^{2} g}{8 b^{2}} + \\frac{1}{2} \\sqrt{- 4 E^{6} + \\left(- 2 E^{3} + \\frac{27 Q^{2} g}{4 b^{2}}\\right)^{2}}}\\right ]$$"
      ],
      "text/plain": [
       "⎡                                                                             \n",
       "⎢                                                                             \n",
       "⎢                                                                             \n",
       "⎢                                                                             \n",
       "⎢                                                                             \n",
       "⎢                                                                             \n",
       "⎢                                                                             \n",
       "⎢                                                                             \n",
       "⎢                                                                             \n",
       "⎢                                     2                                       \n",
       "⎢                                    E                                     E  \n",
       "⎢- ───────────────────────────────────────────────────────────────────── + ─ -\n",
       "⎢               ________________________________________________________   3  \n",
       "⎢              ╱                         ______________________________       \n",
       "⎢             ╱                         ╱                            2        \n",
       "⎢            ╱                         ╱           ⎛             2  ⎞         \n",
       "⎢           ╱                         ╱        6   ⎜     3   27⋅Q ⋅g⎟         \n",
       "⎢          ╱                         ╱    - 4⋅E  + ⎜- 2⋅E  + ───────⎟         \n",
       "⎢         ╱                 2       ╱              ⎜              2 ⎟         \n",
       "⎢        ╱          3   27⋅Q ⋅g   ╲╱               ⎝           4⋅b  ⎠         \n",
       "⎢  3⋅   ╱        - E  + ─────── + ─────────────────────────────────────       \n",
       "⎢    3 ╱                     2                      2                         \n",
       "⎣    ╲╱                   8⋅b                                                 \n",
       "\n",
       "            ________________________________________________________          \n",
       "           ╱                         ______________________________           \n",
       "          ╱                         ╱                            2            \n",
       "         ╱                         ╱           ⎛             2  ⎞             \n",
       "        ╱                         ╱        6   ⎜     3   27⋅Q ⋅g⎟             \n",
       "       ╱                         ╱    - 4⋅E  + ⎜- 2⋅E  + ───────⎟             \n",
       "      ╱                 2       ╱              ⎜              2 ⎟             \n",
       "     ╱          3   27⋅Q ⋅g   ╲╱               ⎝           4⋅b  ⎠             \n",
       "    ╱        - E  + ─────── + ─────────────────────────────────────           \n",
       " 3 ╱                     2                      2                             \n",
       " ╲╱                   8⋅b                                                     \n",
       " ───────────────────────────────────────────────────────────────────, - ──────\n",
       "                                  3                                           \n",
       "                                                                              \n",
       "                                                                              \n",
       "                                                                              \n",
       "                                                                              \n",
       "                                                                              \n",
       "                                                                              \n",
       "                                                                          ⎛  1\n",
       "                                                                        3⋅⎜- ─\n",
       "                                                                          ⎝  2\n",
       "                                                                              \n",
       "\n",
       "                                                                              \n",
       "                                                                              \n",
       "                                                                              \n",
       "                                                                              \n",
       "                                                                              \n",
       "                                                                              \n",
       "                                                                              \n",
       "                                                                              \n",
       "                                                                              \n",
       "                                   2                                          \n",
       "                                  E                                           \n",
       "──────────────────────────────────────────────────────────────────────────── +\n",
       "                    ________________________________________________________  \n",
       "                   ╱                         ______________________________   \n",
       "                  ╱                         ╱                            2    \n",
       "                 ╱                         ╱           ⎛             2  ⎞     \n",
       "                ╱                         ╱        6   ⎜     3   27⋅Q ⋅g⎟     \n",
       "               ╱                         ╱    - 4⋅E  + ⎜- 2⋅E  + ───────⎟     \n",
       "              ╱                 2       ╱              ⎜              2 ⎟     \n",
       "   √3⋅ⅈ⎞     ╱          3   27⋅Q ⋅g   ╲╱               ⎝           4⋅b  ⎠     \n",
       " - ────⎟⋅   ╱        - E  + ─────── + ─────────────────────────────────────   \n",
       "    2  ⎠ 3 ╱                     2                      2                     \n",
       "         ╲╱                   8⋅b                                             \n",
       "\n",
       "                             _________________________________________________\n",
       "                            ╱                         ________________________\n",
       "                           ╱                         ╱                        \n",
       "                          ╱                         ╱           ⎛             \n",
       "                         ╱                         ╱        6   ⎜     3   27⋅Q\n",
       "                        ╱                         ╱    - 4⋅E  + ⎜- 2⋅E  + ────\n",
       "                       ╱                 2       ╱              ⎜             \n",
       "     ⎛  1   √3⋅ⅈ⎞     ╱          3   27⋅Q ⋅g   ╲╱               ⎝           4⋅\n",
       "     ⎜- ─ - ────⎟⋅   ╱        - E  + ─────── + ───────────────────────────────\n",
       "     ⎝  2    2  ⎠ 3 ╱                     2                      2            \n",
       " E                ╲╱                   8⋅b                                    \n",
       " ─ - ─────────────────────────────────────────────────────────────────────────\n",
       " 3                                          3                                 \n",
       "                                                                              \n",
       "                                                                              \n",
       "                                                                              \n",
       "                                                                              \n",
       "                                                                              \n",
       "                                                                              \n",
       "                                                                              \n",
       "                                                                              \n",
       "                                                                              \n",
       "                                                                              \n",
       "\n",
       "_______                                                                       \n",
       "______                                                                        \n",
       "    2                                                                         \n",
       "2  ⎞                                                                          \n",
       " ⋅g⎟                                                                          \n",
       "───⎟                                                                          \n",
       " 2 ⎟                                                                          \n",
       "b  ⎠                                                                          \n",
       "──────                                                                        \n",
       "                                                    2                         \n",
       "                                                   E                          \n",
       "───────, - ───────────────────────────────────────────────────────────────────\n",
       "                                     _________________________________________\n",
       "                                    ╱                         ________________\n",
       "                                   ╱                         ╱                \n",
       "                                  ╱                         ╱           ⎛     \n",
       "                                 ╱                         ╱        6   ⎜     \n",
       "                                ╱                         ╱    - 4⋅E  + ⎜- 2⋅E\n",
       "                               ╱                 2       ╱              ⎜     \n",
       "             ⎛  1   √3⋅ⅈ⎞     ╱          3   27⋅Q ⋅g   ╲╱               ⎝     \n",
       "           3⋅⎜- ─ + ────⎟⋅   ╱        - E  + ─────── + ───────────────────────\n",
       "             ⎝  2    2  ⎠ 3 ╱                     2                      2    \n",
       "                          ╲╱                   8⋅b                            \n",
       "\n",
       "                                              ________________________________\n",
       "                                             ╱                         _______\n",
       "                                            ╱                         ╱       \n",
       "                                           ╱                         ╱        \n",
       "                                          ╱                         ╱        6\n",
       "                                         ╱                         ╱    - 4⋅E \n",
       "                                        ╱                 2       ╱           \n",
       "                      ⎛  1   √3⋅ⅈ⎞     ╱          3   27⋅Q ⋅g   ╲╱            \n",
       "                      ⎜- ─ + ────⎟⋅   ╱        - E  + ─────── + ──────────────\n",
       "                      ⎝  2    2  ⎠ 3 ╱                     2                  \n",
       "                  E                ╲╱                   8⋅b                   \n",
       "─────────────── + ─ - ────────────────────────────────────────────────────────\n",
       "_______________   3                                          3                \n",
       "______________                                                                \n",
       "            2                                                                 \n",
       "        2  ⎞                                                                  \n",
       "3   27⋅Q ⋅g⎟                                                                  \n",
       "  + ───────⎟                                                                  \n",
       "         2 ⎟                                                                  \n",
       "      4⋅b  ⎠                                                                  \n",
       "──────────────                                                                \n",
       "                                                                              \n",
       "                                                                              \n",
       "\n",
       "________________________⎤\n",
       "_______________________ ⎥\n",
       "                     2  ⎥\n",
       "   ⎛             2  ⎞   ⎥\n",
       "   ⎜     3   27⋅Q ⋅g⎟   ⎥\n",
       " + ⎜- 2⋅E  + ───────⎟   ⎥\n",
       "   ⎜              2 ⎟   ⎥\n",
       "   ⎝           4⋅b  ⎠   ⎥\n",
       "─────────────────────── ⎥\n",
       "    2                   ⎥\n",
       "                        ⎥\n",
       "────────────────────────⎥\n",
       "                        ⎥\n",
       "                        ⎥\n",
       "                        ⎥\n",
       "                        ⎥\n",
       "                        ⎥\n",
       "                        ⎥\n",
       "                        ⎥\n",
       "                        ⎥\n",
       "                        ⎥\n",
       "                        ⎥\n",
       "                        ⎦"
      ]
     },
     "execution_count": 75,
     "metadata": {},
     "output_type": "execute_result"
    }
   ],
   "source": [
    "#2.3 solve for y\n",
    "E=symbols('E')\n",
    "solve(E-((Q**2)/(2*b*y)**2*g )- y,y)"
   ]
  },
  {
   "cell_type": "code",
   "execution_count": 76,
   "metadata": {},
   "outputs": [
    {
     "data": {
      "image/png": "[encoded data removed]",
      "text/latex": [
       "$$- \\frac{Q^{2}}{b^{2} g y^{3}} + 1$$"
      ],
      "text/plain": [
       "      2      \n",
       "     Q       \n",
       "- ─────── + 1\n",
       "   2    3    \n",
       "  b ⋅g⋅y     "
      ]
     },
     "execution_count": 76,
     "metadata": {},
     "output_type": "execute_result"
    }
   ],
   "source": [
    "#2.3.minimum specific Energy is when the first derivative is zero \n",
    "\n",
    "diff(((Q/(b*y))**2/(2*g))+y , y)"
   ]
  },
  {
   "cell_type": "code",
   "execution_count": 77,
   "metadata": {},
   "outputs": [
    {
     "data": {
      "image/png": "[encoded data removed]",
      "text/latex": [
       "$$\\left [ \\sqrt[3]{\\frac{Q^{2}}{b^{2} g}}, \\quad - \\frac{\\sqrt[3]{\\frac{Q^{2}}{b^{2} g}}}{2} - \\frac{\\sqrt{3} i}{2} \\sqrt[3]{\\frac{Q^{2}}{b^{2} g}}, \\quad - \\frac{\\sqrt[3]{\\frac{Q^{2}}{b^{2} g}}}{2} + \\frac{\\sqrt{3} i}{2} \\sqrt[3]{\\frac{Q^{2}}{b^{2} g}}\\right ]$$"
      ],
      "text/plain": [
       "⎡                      ______              ______          ______             \n",
       "⎢                     ╱   2               ╱   2           ╱   2               \n",
       "⎢                    ╱   Q               ╱   Q           ╱   Q               ╱\n",
       "⎢      ______       ╱   ────    √3⋅ⅈ⋅   ╱   ────        ╱   ────    √3⋅ⅈ⋅   ╱ \n",
       "⎢     ╱   2      3 ╱     2           3 ╱     2       3 ╱     2           3 ╱  \n",
       "⎢    ╱   Q       ╲╱     b ⋅g         ╲╱     b ⋅g     ╲╱     b ⋅g         ╲╱   \n",
       "⎢   ╱   ──── , - ──────────── - ─────────────────, - ──────────── + ──────────\n",
       "⎢3 ╱     2            2                 2                 2                 2 \n",
       "⎣╲╱     b ⋅g                                                                  \n",
       "\n",
       " ______⎤\n",
       "╱   2  ⎥\n",
       "   Q   ⎥\n",
       "  ──── ⎥\n",
       "   2   ⎥\n",
       "  b ⋅g ⎥\n",
       "───────⎥\n",
       "       ⎥\n",
       "       ⎦"
      ]
     },
     "execution_count": 77,
     "metadata": {},
     "output_type": "execute_result"
    }
   ],
   "source": [
    "solve(diff(((Q/(b*y))**2/(2*g))+y , y),y)"
   ]
  },
  {
   "cell_type": "code",
   "execution_count": null,
   "metadata": {},
   "outputs": [],
   "source": []
  },
  {
   "cell_type": "code",
   "execution_count": null,
   "metadata": {},
   "outputs": [],
   "source": []
  },
  {
   "cell_type": "code",
   "execution_count": 78,
   "metadata": {},
   "outputs": [],
   "source": [
    "##Exercice 3"
   ]
  },
  {
   "cell_type": "code",
   "execution_count": 80,
   "metadata": {},
   "outputs": [
    {
     "data": {
      "text/latex": [
       "$$\\left ( \\left[\\begin{matrix}4 & 3 & 2 & 1\\\\-1 & 1 & -1 & 0\\\\0 & 3 & 0 & 2\\\\0 & 2 & 2 & 1\\end{matrix}\\right], \\quad \\left[\\begin{matrix}x_{1}\\\\x_{2}\\\\x_{3}\\\\x_{4}\\end{matrix}\\right], \\quad \\left[\\begin{matrix}25\\\\7\\\\17\\\\20\\end{matrix}\\right]\\right )$$"
      ],
      "text/plain": [
       "⎛⎡4   3  2   1⎤  ⎡x₁⎤  ⎡25⎤⎞\n",
       "⎜⎢            ⎥  ⎢  ⎥  ⎢  ⎥⎟\n",
       "⎜⎢-1  1  -1  0⎥  ⎢x₂⎥  ⎢7 ⎥⎟\n",
       "⎜⎢            ⎥, ⎢  ⎥, ⎢  ⎥⎟\n",
       "⎜⎢0   3  0   2⎥  ⎢x₃⎥  ⎢17⎥⎟\n",
       "⎜⎢            ⎥  ⎢  ⎥  ⎢  ⎥⎟\n",
       "⎝⎣0   2  2   1⎦  ⎣x₄⎦  ⎣20⎦⎠"
      ]
     },
     "execution_count": 80,
     "metadata": {},
     "output_type": "execute_result"
    }
   ],
   "source": [
    "x1,x2,x3,x4=symbols('x1,x2,x3,x4')\n",
    "A=Matrix([[4,3,2,1],[-1,1,-1,0],[0,3,0,2],[0,2,2,1]])\n",
    "X=Matrix([x1,x2,x3,x4])\n",
    "b=Matrix([25,7,17,20])\n",
    "A, X, b"
   ]
  },
  {
   "cell_type": "code",
   "execution_count": 108,
   "metadata": {},
   "outputs": [],
   "source": [
    "w=linsolve((4*x1+3*x2+2*x3+x4-25,-x3+x2-x1-7,2*x4+3*x2-17,x4+2*x2+2*x3-20),(x1,x2,x3,x4))"
   ]
  },
  {
   "cell_type": "code",
   "execution_count": 85,
   "metadata": {},
   "outputs": [
    {
     "data": {
      "text/latex": [
       "$$\\left[\\begin{matrix}- \\frac{13}{12}\\\\\\frac{28}{3}\\\\\\frac{41}{12}\\\\- \\frac{11}{2}\\end{matrix}\\right]$$"
      ],
      "text/plain": [
       "⎡-13  ⎤\n",
       "⎢──── ⎥\n",
       "⎢ 12  ⎥\n",
       "⎢     ⎥\n",
       "⎢28/3 ⎥\n",
       "⎢     ⎥\n",
       "⎢ 41  ⎥\n",
       "⎢ ──  ⎥\n",
       "⎢ 12  ⎥\n",
       "⎢     ⎥\n",
       "⎣-11/2⎦"
      ]
     },
     "execution_count": 85,
     "metadata": {},
     "output_type": "execute_result"
    }
   ],
   "source": [
    "#by matrix operation\n",
    "(A**-1)*b"
   ]
  },
  {
   "cell_type": "code",
   "execution_count": 86,
   "metadata": {},
   "outputs": [
    {
     "data": {
      "text/latex": [
       "$$\\left[\\begin{matrix}- \\frac{13}{12}\\\\\\frac{28}{3}\\\\\\frac{41}{12}\\\\- \\frac{11}{2}\\end{matrix}\\right]$$"
      ],
      "text/plain": [
       "⎡-13  ⎤\n",
       "⎢──── ⎥\n",
       "⎢ 12  ⎥\n",
       "⎢     ⎥\n",
       "⎢28/3 ⎥\n",
       "⎢     ⎥\n",
       "⎢ 41  ⎥\n",
       "⎢ ──  ⎥\n",
       "⎢ 12  ⎥\n",
       "⎢     ⎥\n",
       "⎣-11/2⎦"
      ]
     },
     "execution_count": 86,
     "metadata": {},
     "output_type": "execute_result"
    }
   ],
   "source": [
    "#least square solution\n",
    "(A.transpose()*A)**-1*A.transpose()*b"
   ]
  },
  {
   "cell_type": "code",
   "execution_count": 87,
   "metadata": {},
   "outputs": [],
   "source": [
    "##3.2. is H invertible ? inverse of H does not exist for those values:\n"
   ]
  },
  {
   "cell_type": "code",
   "execution_count": 90,
   "metadata": {},
   "outputs": [],
   "source": [
    "t=symbols('t')\n",
    "H=Matrix([[1,4,t],[t-1,6,t],[2,9,t**2]])"
   ]
  },
  {
   "cell_type": "code",
   "execution_count": 91,
   "metadata": {},
   "outputs": [
    {
     "data": {
      "image/png": "[encoded data removed]",
      "text/latex": [
       "$$- t^{2} \\left(4 t - 4\\right) + 6 t^{2} + 9 t \\left(t - 1\\right) - 13 t$$"
      ],
      "text/plain": [
       "   2                2                     \n",
       "- t ⋅(4⋅t - 4) + 6⋅t  + 9⋅t⋅(t - 1) - 13⋅t"
      ]
     },
     "execution_count": 91,
     "metadata": {},
     "output_type": "execute_result"
    }
   ],
   "source": [
    "det(H)"
   ]
  },
  {
   "cell_type": "code",
   "execution_count": 92,
   "metadata": {},
   "outputs": [
    {
     "data": {
      "image/png": "[encoded data removed]",
      "text/latex": [
       "$$\\left [ 0, \\quad 2, \\quad \\frac{11}{4}\\right ]$$"
      ],
      "text/plain": [
       "[0, 2, 11/4]"
      ]
     },
     "execution_count": 92,
     "metadata": {},
     "output_type": "execute_result"
    }
   ],
   "source": [
    "solve(det(H),t)"
   ]
  },
  {
   "cell_type": "code",
   "execution_count": 93,
   "metadata": {},
   "outputs": [],
   "source": [
    "##3.3. eigenvalues and eigenvectors\n"
   ]
  },
  {
   "cell_type": "code",
   "execution_count": 106,
   "metadata": {},
   "outputs": [
    {
     "data": {
      "image/png": "[encoded data removed]",
      "text/latex": [
       "$$\\left [ -1, \\quad - \\sqrt{14} + 4, \\quad \\sqrt{14} + 4\\right ]$$"
      ],
      "text/plain": [
       "[-1, -√14 + 4, √14 + 4]"
      ]
     },
     "execution_count": 106,
     "metadata": {},
     "output_type": "execute_result"
    }
   ],
   "source": [
    "#eigenvalue\n",
    "a=symbols('a')\n",
    "E=Matrix([[1-a,2,3],[1,1-a,6],[1,2,5-a]])\n",
    "det(E)\n",
    "solve(det(E),a)"
   ]
  },
  {
   "cell_type": "code",
   "execution_count": null,
   "metadata": {},
   "outputs": [],
   "source": []
  }
 ],
 "metadata": {
  "kernelspec": {
   "display_name": "Python 3",
   "language": "python",
   "name": "python3"
  },
  "language_info": {
   "codemirror_mode": {
    "name": "ipython",
    "version": 3
   },
   "file_extension": ".py",
   "mimetype": "text/x-python",
   "name": "python",
   "nbconvert_exporter": "python",
   "pygments_lexer": "ipython3",
   "version": "3.6.3"
  }
 },
 "nbformat": 4,
 "nbformat_minor": 2
}
